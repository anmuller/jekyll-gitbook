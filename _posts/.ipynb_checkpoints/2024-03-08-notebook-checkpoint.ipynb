{
 "cells": [
  {
   "cell_type": "markdown",
   "metadata": {},
   "source": [
    "---\n",
    "title: Jupyternotebook\n",
    "author: Tao He\n",
    "date: 2023-12-12\n",
    "category: Jekyll\n",
    "layout: post\n",
    "mermaid: true\n",
    "---"
   ]
  },
  {
   "cell_type": "markdown",
   "metadata": {},
   "source": [
    "Ceci vient d'un notebook\n"
   ]
  }
 ],
 "metadata": {
  "language_info": {
   "name": "python"
  }
 },
 "nbformat": 4,
 "nbformat_minor": 2
}
